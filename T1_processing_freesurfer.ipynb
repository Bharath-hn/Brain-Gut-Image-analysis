{
 "cells": [
  {
   "cell_type": "code",
   "execution_count": 12,
   "metadata": {},
   "outputs": [],
   "source": [
    "import os\n",
    "from concurrent.futures import ProcessPoolExecutor\n",
    "import pandas as pd\n",
    "import numpy as np"
   ]
  },
  {
   "cell_type": "code",
   "execution_count": 14,
   "metadata": {},
   "outputs": [
    {
     "name": "stdout",
     "output_type": "stream",
     "text": [
      "# of subjects to Process: 178\n"
     ]
    }
   ],
   "source": [
    "enable_prallel_processing = 0 # 0-disable 1-enable\n",
    "no_sub_to_run_in_parallel = 4\n",
    "sub_det_df = pd.read_excel('data/rs_fmri_sub_details_WO_AS.xlsx')\n",
    "cur_sub_list_before = sub_det_df['Subject_ID_before'].to_numpy()\n",
    "cur_sub_list_after = sub_det_df['Subject_ID_after'].to_numpy()\n",
    "subject_ids = np.concatenate((cur_sub_list_before,cur_sub_list_after))\n",
    "print('# of subjects to Process:', len(subject_ids))"
   ]
  },
  {
   "cell_type": "code",
   "execution_count": 2,
   "metadata": {},
   "outputs": [],
   "source": [
    "FS_dir = '/data-braingut/bharath/anat_freesurfer_V6'\n",
    "base_dir = '/data-braingut/bharath/nifty_used_data'"
   ]
  },
  {
   "cell_type": "markdown",
   "metadata": {},
   "source": [
    "function to run freesurfer recon-all"
   ]
  },
  {
   "cell_type": "code",
   "execution_count": 4,
   "metadata": {},
   "outputs": [],
   "source": [
    "def run_reconn_all(subid, base_dir, FS_dir):\n",
    "    cmdline = 'recon-all -all -T2 %s/%s/anat/sub-%s_T2w.nii.gz -openmp 10 -parallel -subjid %s -sd %s -T2pial -i %s/%s/anat/sub-%s_T1w.nii.gz'%(base_dir,subid,subid, subid, FS_dir, base_dir,\n",
    "                                                                                                                                                subid, subid)\n",
    "#     print(cmdline)\n",
    "    os.system(cmdline)\n"
   ]
  },
  {
   "cell_type": "code",
   "execution_count": 28,
   "metadata": {},
   "outputs": [],
   "source": [
    "if(enable_prallel_processing == 1):\n",
    "    with ProcessPoolExecutor(max_workers = no_sub_to_run_in_parallel) as executor:\n",
    "        for i in subject_ids:\n",
    "            executor.submit(run_reconn_all, i, base_dir, FS_dir)  \n",
    "else:\n",
    "    for i in subject_ids:\n",
    "        run_reconn_all(i, base_dir, FS_dir)  "
   ]
  },
  {
   "cell_type": "markdown",
   "metadata": {},
   "source": [
    "function to convert freesurfer ouput to afni usable format"
   ]
  },
  {
   "cell_type": "code",
   "execution_count": 8,
   "metadata": {},
   "outputs": [],
   "source": [
    "def run_Make_Spec_FS(sub_id, FS_dir):\n",
    "    cmdline = (r'@SUMA_Make_Spec_FS -NIFTI -fspath %s/%s/ -sid %s') % (FS_dir, sub_id,sub_id)\n",
    "#     print(cmdline)\n",
    "    os.system(cmdline)"
   ]
  },
  {
   "cell_type": "code",
   "execution_count": null,
   "metadata": {},
   "outputs": [],
   "source": [
    "if(enable_prallel_processing == 1):\n",
    "    with ProcessPoolExecutor(max_workers=no_sub_to_run_in_parallel*8) as executor:\n",
    "        for i in subject_ids:\n",
    "            executor.submit(run_Make_Spec_FS, i,FS_dir)\n",
    "else:\n",
    "    for i in subject_ids:\n",
    "        run_Make_Spec_FS(i, FS_dir)"
   ]
  }
 ],
 "metadata": {
  "kernelspec": {
   "display_name": "Python 3 (ipykernel)",
   "language": "python",
   "name": "python3"
  },
  "language_info": {
   "codemirror_mode": {
    "name": "ipython",
    "version": 3
   },
   "file_extension": ".py",
   "mimetype": "text/x-python",
   "name": "python",
   "nbconvert_exporter": "python",
   "pygments_lexer": "ipython3",
   "version": "3.8.5"
  }
 },
 "nbformat": 4,
 "nbformat_minor": 4
}
