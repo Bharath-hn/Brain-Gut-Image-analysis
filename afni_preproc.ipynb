{
 "cells": [
  {
   "cell_type": "code",
   "execution_count": 3,
   "metadata": {},
   "outputs": [],
   "source": [
    "import os\n",
    "from concurrent.futures import ProcessPoolExecutor\n",
    "import numpy as np\n",
    "import pickle\n",
    "import pandas as pd"
   ]
  },
  {
   "cell_type": "code",
   "execution_count": 4,
   "metadata": {},
   "outputs": [
    {
     "name": "stdout",
     "output_type": "stream",
     "text": [
      "# of subjects to Process: 178\n"
     ]
    }
   ],
   "source": [
    "enable_prallel_processing = 0 # 0-disable 1-enable\n",
    "no_sub_to_run_in_parallel = 4\n",
    "sub_det_df = pd.read_excel('data/rs_fmri_sub_details_WO_AS.xlsx')\n",
    "cur_sub_list_before = sub_det_df['Subject_ID_before'].to_numpy()\n",
    "cur_sub_list_after = sub_det_df['Subject_ID_after'].to_numpy()\n",
    "subject_ids = np.concatenate((cur_sub_list_before,cur_sub_list_after))\n",
    "print('# of subjects to Process:', len(subject_ids))"
   ]
  },
  {
   "cell_type": "code",
   "execution_count": 5,
   "metadata": {},
   "outputs": [],
   "source": [
    "data_dir = '/data-braingut/bharath/nifty_used_data'\n",
    "FS_dir = '/data-braingut/bharath/anat_freesurfer_V6'\n",
    "if not (os.path.isdir('/data-braingut/bharath/fmri_bandpass')):\n",
    "    os.mkdir('/data-braingut/bharath/fmri_bandpass')"
   ]
  },
  {
   "cell_type": "code",
   "execution_count": 11,
   "metadata": {},
   "outputs": [],
   "source": [
    "def run_afni_proc(sub_id,FS_dir, data_dir):\n",
    "    cmdline = ('afni_proc.py -subj_id %s \\\n",
    "    -blocks despike tshift align volreg blur mask scale regress \\\n",
    "    -copy_anat %s/%s/SUMA/brain.nii.gz \\\n",
    "    -anat_has_skull no \\\n",
    "    -anat_follower anat_w_skull anat %s/%s/SUMA/T1.nii.gz \\\n",
    "    -anat_follower_ROI aaseg anat  %s/%s/SUMA/aparc.a2009s+aseg.nii.gz \\\n",
    "    -anat_follower_ROI aeseg epi  %s/%s/SUMA/aparc.a2009s+aseg.nii.gz \\\n",
    "    -anat_follower_ROI aasegbig anat  %s/%s/SUMA/aparc+aseg.nii.gz \\\n",
    "    -anat_follower_ROI aesegbig epi  %s/%s/SUMA/aparc+aseg.nii.gz \\\n",
    "    -anat_follower_ROI FSvent epi %s/%s/SUMA/fs_ap_latvent.nii.gz \\\n",
    "    -anat_follower_ROI FSWe epi %s/%s/SUMA/fs_ap_wm.nii.gz \\\n",
    "    -anat_follower_erode FSvent FSWe \\\n",
    "    -dsets %s/%s/func/sub-%s_task-rest_acq-TR2890.nii.gz \\\n",
    "    -tcat_remove_first_trs 4 \\\n",
    "    -align_opts_aea -cost lpc+ZZ -giant_move -check_flip \\\n",
    "    -volreg_align_to MIN_OUTLIER \\\n",
    "    -blur_size 4 \\\n",
    "    -mask_epi_anat yes \\\n",
    "    -regress_motion_per_run \\\n",
    "    -regress_bandpass 0.01 0.1 \\\n",
    "    -regress_ROI_PC FSvent 3 \\\n",
    "    -regress_ROI_PC_per_run FSvent \\\n",
    "    -regress_anaticor_fast \\\n",
    "    -regress_anaticor_label FSWe \\\n",
    "    -regress_apply_mot_types demean deriv \\\n",
    "    -regress_est_blur_epits \\\n",
    "    -regress_est_blur_errts \\\n",
    "    -out_dir /data-braingut/bharath/fmri_bandpass/%s \\\n",
    "    -html_review_style pythonic')%(sub_id,FS_dir,sub_id,FS_dir,sub_id,FS_dir,sub_id,FS_dir,sub_id,FS_dir,sub_id,FS_dir,sub_id,FS_dir,sub_id,FS_dir,sub_id,\n",
    "                                   data_dir,sub_id,sub_id,sub_id)\n",
    "#     print(cmdline)\n",
    "    os.system(cmdline)    \n",
    "    cmdline1 = ('tcsh -xef proc.%s 2>&1 | tee output.proc.%s')%(sub_id,sub_id)\n",
    "#     print(cmdline1)    \n",
    "    os.system(cmdline1)"
   ]
  },
  {
   "cell_type": "code",
   "execution_count": null,
   "metadata": {},
   "outputs": [],
   "source": [
    "if(enable_prallel_processing == 1):\n",
    "    with ProcessPoolExecutor(max_workers = no_sub_to_run_in_parallel) as executor:\n",
    "        for i in subject_ids:\n",
    "            executor.submit(run_afni_proc, i, FS_dir, data_dir)  \n",
    "else:\n",
    "    for i in subject_ids:\n",
    "        run_afni_proc(i, FS_dir, data_dir)  "
   ]
  },
  {
   "cell_type": "code",
   "execution_count": null,
   "metadata": {},
   "outputs": [],
   "source": [
    "moveto_dir = '/data-braingut/bharath/fmri_bandpass/output_proc'\n",
    "if not (os.path.isdir(moveto_dir)):\n",
    "    os.mkdir(moveto_dir)\n",
    "for sub_id in subject_ids:\n",
    "    shutil.move('output.proc.%s'%sub_id, moveto_dir)\n",
    "    shutil.move('proc.%s'%sub_id, moveto_dir)  "
   ]
  }
 ],
 "metadata": {
  "kernelspec": {
   "display_name": "Python 3 (ipykernel)",
   "language": "python",
   "name": "python3"
  },
  "language_info": {
   "codemirror_mode": {
    "name": "ipython",
    "version": 3
   },
   "file_extension": ".py",
   "mimetype": "text/x-python",
   "name": "python",
   "nbconvert_exporter": "python",
   "pygments_lexer": "ipython3",
   "version": "3.8.5"
  }
 },
 "nbformat": 4,
 "nbformat_minor": 4
}
