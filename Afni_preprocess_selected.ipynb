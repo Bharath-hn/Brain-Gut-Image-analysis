{
 "cells": [
  {
   "cell_type": "code",
   "execution_count": 1,
   "id": "651da310",
   "metadata": {},
   "outputs": [],
   "source": [
    "import os\n",
    "from concurrent.futures import ProcessPoolExecutor\n",
    "import shutil\n",
    "import numpy as np\n",
    "import pandas as pd"
   ]
  },
  {
   "cell_type": "code",
   "execution_count": 2,
   "id": "1603664c",
   "metadata": {},
   "outputs": [
    {
     "name": "stdout",
     "output_type": "stream",
     "text": [
      "# of subjects to Process: 178\n"
     ]
    }
   ],
   "source": [
    "enable_prallel_processing = 0 # 0-disable 1-enable\n",
    "no_sub_to_run_in_parallel = 4\n",
    "sub_det_df = pd.read_excel('data/rs_fmri_sub_details_WO_AS.xlsx')\n",
    "cur_sub_list_before = sub_det_df['Subject_ID_before'].to_numpy()\n",
    "cur_sub_list_after = sub_det_df['Subject_ID_after'].to_numpy()\n",
    "subject_ids = np.concatenate((cur_sub_list_before,cur_sub_list_after))\n",
    "print('# of subjects to Process:', len(subject_ids))"
   ]
  },
  {
   "cell_type": "code",
   "execution_count": 4,
   "id": "d52bdffc",
   "metadata": {},
   "outputs": [],
   "source": [
    "data_dir = '/data-braingut/bharath/fmri_bandpass'\n",
    "if not (os.path.isdir('/data-braingut/bharath/fmri_pre_process_native_space/BP_3PC_anaticor_motreg_noscale_4blur')):\n",
    "    os.mkdir('/data-braingut/bharath/fmri_pre_process_native_space/BP_3PC_anaticor_motreg_noscale_4blur')    "
   ]
  },
  {
   "cell_type": "code",
   "execution_count": 5,
   "id": "a8b6adc9",
   "metadata": {},
   "outputs": [],
   "source": [
    "def run_afni_proc_Native_space_partial(sub_id, data_dir):\n",
    "    cmdline = ('afni_proc.py -subj_id %s \\\n",
    "         -blocks mask regress \\\n",
    "         -dsets %s/%s/pb04.%s.r01.blur+orig \\\n",
    "         -mask_import FSvent %s/%s/follow_ROI_FSvent+orig \\\n",
    "         -mask_import FSWe %s/%s/follow_ROI_FSWe+orig \\\n",
    "         -regress_bandpass 0.01 0.1 \\\n",
    "         -regress_motion_file %s/%s/dfile_rall.1D \\\n",
    "         -regress_motion_per_run \\\n",
    "         -regress_ROI_PC FSvent 3 \\\n",
    "         -regress_ROI_PC_per_run FSvent \\\n",
    "         -regress_anaticor_fast \\\n",
    "         -regress_anaticor_label FSWe \\\n",
    "         -regress_apply_mot_types demean deriv \\\n",
    "         -out_dir /data-braingut/bharath/fmri_pre_process_native_space/BP_3PC_anaticor_motreg_noscale_4blur/%s \\\n",
    "         -html_review_style basic')%(sub_id,data_dir,sub_id,sub_id,data_dir,sub_id,data_dir,sub_id,data_dir,sub_id,sub_id)\n",
    "    #     -regress_censor_extern %s/%s/outcount_%s_censor.1D\\    \n",
    "    os.system(cmdline)\n",
    "#     print(cmdline)\n",
    "    cmdline1 = ('tcsh -xef proc.%s 2>&1 | tee output.proc.%s')%(sub_id,sub_id)\n",
    "    os.system(cmdline1)\n",
    "#     print(cmdline1)"
   ]
  },
  {
   "cell_type": "code",
   "execution_count": null,
   "id": "4ebe488b",
   "metadata": {},
   "outputs": [],
   "source": [
    "if(enable_prallel_processing == 1):\n",
    "    with ProcessPoolExecutor(max_workers = no_sub_to_run_in_parallel) as executor:\n",
    "        for i in subject_ids:\n",
    "            executor.submit(run_afni_proc_Native_space_partial, i, data_dir)  \n",
    "else:\n",
    "    for i in subject_ids:\n",
    "        run_afni_proc_Native_space_partial(i, data_dir)  "
   ]
  },
  {
   "cell_type": "code",
   "execution_count": 5,
   "id": "61bac55f",
   "metadata": {},
   "outputs": [],
   "source": [
    "moveto_dir = '/data-braingut/bharath/fmri_pre_process_native_space/BP_3PC_anaticor_motreg_noscale_4blur/output_proc'\n",
    "if not (os.path.isdir(moveto_dir)):\n",
    "    os.mkdir('moveto_dir')\n",
    "for sub_id in subject_ids:\n",
    "    shutil.move('output.proc.%s'%sub_id, moveto_dir)\n",
    "    shutil.move('proc.%s'%sub_id, moveto_dir)  "
   ]
  }
 ],
 "metadata": {
  "kernelspec": {
   "display_name": "Python 3 (ipykernel)",
   "language": "python",
   "name": "python3"
  },
  "language_info": {
   "codemirror_mode": {
    "name": "ipython",
    "version": 3
   },
   "file_extension": ".py",
   "mimetype": "text/x-python",
   "name": "python",
   "nbconvert_exporter": "python",
   "pygments_lexer": "ipython3",
   "version": "3.8.5"
  }
 },
 "nbformat": 4,
 "nbformat_minor": 5
}
